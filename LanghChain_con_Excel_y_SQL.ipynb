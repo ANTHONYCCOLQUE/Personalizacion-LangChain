{
  "nbformat": 4,
  "nbformat_minor": 0,
  "metadata": {
    "colab": {
      "provenance": [],
      "gpuType": "T4"
    },
    "kernelspec": {
      "name": "python3",
      "display_name": "Python 3"
    },
    "language_info": {
      "name": "python"
    },
    "accelerator": "GPU"
  },
  "cells": [
    {
      "cell_type": "markdown",
      "source": [
        "**RAG with LangChain**"
      ],
      "metadata": {
        "id": "AStYp8lrY4uH"
      }
    },
    {
      "cell_type": "code",
      "execution_count": 1,
      "metadata": {
        "id": "f7He800MY3AG",
        "colab": {
          "base_uri": "https://localhost:8080/"
        },
        "outputId": "5bb40c23-3124-4a69-ce6b-bc623d288b96"
      },
      "outputs": [
        {
          "output_type": "stream",
          "name": "stdout",
          "text": [
            "\u001b[?25l   \u001b[90m━━━━━━━━━━━━━━━━━━━━━━━━━━━━━━━━━━━━━━━━\u001b[0m \u001b[32m0.0/69.0 kB\u001b[0m \u001b[31m?\u001b[0m eta \u001b[36m-:--:--\u001b[0m\r\u001b[2K   \u001b[90m━━━━━━━━━━━━━━━━━━━━━━━━━━━━━━━━━━━━━━━━\u001b[0m \u001b[32m69.0/69.0 kB\u001b[0m \u001b[31m8.0 MB/s\u001b[0m eta \u001b[36m0:00:00\u001b[0m\n",
            "\u001b[?25h\u001b[?25l   \u001b[90m━━━━━━━━━━━━━━━━━━━━━━━━━━━━━━━━━━━━━━━━\u001b[0m \u001b[32m0.0/209.2 kB\u001b[0m \u001b[31m?\u001b[0m eta \u001b[36m-:--:--\u001b[0m\r\u001b[2K   \u001b[90m━━━━━━━━━━━━━━━━━━━━━━━━━━━━━━━━━━━━━━━━\u001b[0m \u001b[32m209.2/209.2 kB\u001b[0m \u001b[31m21.7 MB/s\u001b[0m eta \u001b[36m0:00:00\u001b[0m\n",
            "\u001b[?25h\u001b[?25l   \u001b[90m━━━━━━━━━━━━━━━━━━━━━━━━━━━━━━━━━━━━━━━━\u001b[0m \u001b[32m0.0/2.5 MB\u001b[0m \u001b[31m?\u001b[0m eta \u001b[36m-:--:--\u001b[0m\r\u001b[2K   \u001b[90m━━━━━━━━━━━━━━━━━━━━━━━━━━━━━━━━━━━━━━━━\u001b[0m \u001b[32m2.5/2.5 MB\u001b[0m \u001b[31m103.6 MB/s\u001b[0m eta \u001b[36m0:00:00\u001b[0m\n",
            "\u001b[?25h\u001b[?25l   \u001b[90m━━━━━━━━━━━━━━━━━━━━━━━━━━━━━━━━━━━━━━━━\u001b[0m \u001b[32m0.0/44.4 kB\u001b[0m \u001b[31m?\u001b[0m eta \u001b[36m-:--:--\u001b[0m\r\u001b[2K   \u001b[90m━━━━━━━━━━━━━━━━━━━━━━━━━━━━━━━━━━━━━━━━\u001b[0m \u001b[32m44.4/44.4 kB\u001b[0m \u001b[31m4.5 MB/s\u001b[0m eta \u001b[36m0:00:00\u001b[0m\n",
            "\u001b[?25h\u001b[?25l   \u001b[90m━━━━━━━━━━━━━━━━━━━━━━━━━━━━━━━━━━━━━━━━\u001b[0m \u001b[32m0.0/50.9 kB\u001b[0m \u001b[31m?\u001b[0m eta \u001b[36m-:--:--\u001b[0m\r\u001b[2K   \u001b[90m━━━━━━━━━━━━━━━━━━━━━━━━━━━━━━━━━━━━━━━━\u001b[0m \u001b[32m50.9/50.9 kB\u001b[0m \u001b[31m5.0 MB/s\u001b[0m eta \u001b[36m0:00:00\u001b[0m\n",
            "\u001b[?25h"
          ]
        }
      ],
      "source": [
        "!pip install langchain langchain_openai langchain_experimental pandas numpy tabulate openpyxl -q"
      ]
    },
    {
      "cell_type": "code",
      "source": [
        "from langchain_openai import ChatOpenAI\n",
        "from langchain_experimental.agents.agent_toolkits import create_pandas_dataframe_agent\n",
        "from langchain.agents.agent_types import AgentType\n",
        "from langchain.schema.output_parser import StrOutputParser\n",
        "from langchain.output_parsers import PandasDataFrameOutputParser\n",
        "from langchain.prompts import ChatPromptTemplate, PromptTemplate\n",
        "import pandas as pd\n",
        "import numpy as np\n",
        "import os"
      ],
      "metadata": {
        "id": "LSlM8OxOZ4H5"
      },
      "execution_count": 2,
      "outputs": []
    },
    {
      "cell_type": "code",
      "source": [
        "df= pd.read_excel(\"titanic.xlsx\")\n"
      ],
      "metadata": {
        "id": "G7VdMYRkaIKu"
      },
      "execution_count": 3,
      "outputs": []
    },
    {
      "cell_type": "code",
      "source": [
        "df.head()"
      ],
      "metadata": {
        "colab": {
          "base_uri": "https://localhost:8080/",
          "height": 258
        },
        "id": "YOBcEHAfkSUO",
        "outputId": "afa56074-6252-4d8e-fe36-5e1ab0331ad9"
      },
      "execution_count": 4,
      "outputs": [
        {
          "output_type": "execute_result",
          "data": {
            "text/plain": [
              "   Id_Pasajero  Survived  Clase  \\\n",
              "0            1         0      3   \n",
              "1            2         1      1   \n",
              "2            3         1      3   \n",
              "3            4         1      1   \n",
              "4            5         0      3   \n",
              "\n",
              "                                              Nombre       Sexo  Edad  \\\n",
              "0                            Braund, Mr. Owen Harris  Masculino  22.0   \n",
              "1  Cumings, Mrs. John Bradley (Florence Briggs Th...   Femenino  38.0   \n",
              "2                             Heikkinen, Miss. Laina   Femenino  26.0   \n",
              "3       Futrelle, Mrs. Jacques Heath (Lily May Peel)   Femenino  35.0   \n",
              "4                           Allen, Mr. William Henry  Masculino  35.0   \n",
              "\n",
              "   Familiares           Tiquete  Tarifa Cabina Embarcado  \n",
              "0           0         A/5 21171    7.25    NaN         S  \n",
              "1           0          PC 17599   71.28    C85         C  \n",
              "2           0  STON/O2. 3101282    7.93    NaN         S  \n",
              "3           0            113803   53.10   C123         S  \n",
              "4           0            373450    8.05    NaN         S  "
            ],
            "text/html": [
              "\n",
              "  <div id=\"df-c11cf11d-8709-404e-a776-7f5bf960866e\" class=\"colab-df-container\">\n",
              "    <div>\n",
              "<style scoped>\n",
              "    .dataframe tbody tr th:only-of-type {\n",
              "        vertical-align: middle;\n",
              "    }\n",
              "\n",
              "    .dataframe tbody tr th {\n",
              "        vertical-align: top;\n",
              "    }\n",
              "\n",
              "    .dataframe thead th {\n",
              "        text-align: right;\n",
              "    }\n",
              "</style>\n",
              "<table border=\"1\" class=\"dataframe\">\n",
              "  <thead>\n",
              "    <tr style=\"text-align: right;\">\n",
              "      <th></th>\n",
              "      <th>Id_Pasajero</th>\n",
              "      <th>Survived</th>\n",
              "      <th>Clase</th>\n",
              "      <th>Nombre</th>\n",
              "      <th>Sexo</th>\n",
              "      <th>Edad</th>\n",
              "      <th>Familiares</th>\n",
              "      <th>Tiquete</th>\n",
              "      <th>Tarifa</th>\n",
              "      <th>Cabina</th>\n",
              "      <th>Embarcado</th>\n",
              "    </tr>\n",
              "  </thead>\n",
              "  <tbody>\n",
              "    <tr>\n",
              "      <th>0</th>\n",
              "      <td>1</td>\n",
              "      <td>0</td>\n",
              "      <td>3</td>\n",
              "      <td>Braund, Mr. Owen Harris</td>\n",
              "      <td>Masculino</td>\n",
              "      <td>22.0</td>\n",
              "      <td>0</td>\n",
              "      <td>A/5 21171</td>\n",
              "      <td>7.25</td>\n",
              "      <td>NaN</td>\n",
              "      <td>S</td>\n",
              "    </tr>\n",
              "    <tr>\n",
              "      <th>1</th>\n",
              "      <td>2</td>\n",
              "      <td>1</td>\n",
              "      <td>1</td>\n",
              "      <td>Cumings, Mrs. John Bradley (Florence Briggs Th...</td>\n",
              "      <td>Femenino</td>\n",
              "      <td>38.0</td>\n",
              "      <td>0</td>\n",
              "      <td>PC 17599</td>\n",
              "      <td>71.28</td>\n",
              "      <td>C85</td>\n",
              "      <td>C</td>\n",
              "    </tr>\n",
              "    <tr>\n",
              "      <th>2</th>\n",
              "      <td>3</td>\n",
              "      <td>1</td>\n",
              "      <td>3</td>\n",
              "      <td>Heikkinen, Miss. Laina</td>\n",
              "      <td>Femenino</td>\n",
              "      <td>26.0</td>\n",
              "      <td>0</td>\n",
              "      <td>STON/O2. 3101282</td>\n",
              "      <td>7.93</td>\n",
              "      <td>NaN</td>\n",
              "      <td>S</td>\n",
              "    </tr>\n",
              "    <tr>\n",
              "      <th>3</th>\n",
              "      <td>4</td>\n",
              "      <td>1</td>\n",
              "      <td>1</td>\n",
              "      <td>Futrelle, Mrs. Jacques Heath (Lily May Peel)</td>\n",
              "      <td>Femenino</td>\n",
              "      <td>35.0</td>\n",
              "      <td>0</td>\n",
              "      <td>113803</td>\n",
              "      <td>53.10</td>\n",
              "      <td>C123</td>\n",
              "      <td>S</td>\n",
              "    </tr>\n",
              "    <tr>\n",
              "      <th>4</th>\n",
              "      <td>5</td>\n",
              "      <td>0</td>\n",
              "      <td>3</td>\n",
              "      <td>Allen, Mr. William Henry</td>\n",
              "      <td>Masculino</td>\n",
              "      <td>35.0</td>\n",
              "      <td>0</td>\n",
              "      <td>373450</td>\n",
              "      <td>8.05</td>\n",
              "      <td>NaN</td>\n",
              "      <td>S</td>\n",
              "    </tr>\n",
              "  </tbody>\n",
              "</table>\n",
              "</div>\n",
              "    <div class=\"colab-df-buttons\">\n",
              "\n",
              "  <div class=\"colab-df-container\">\n",
              "    <button class=\"colab-df-convert\" onclick=\"convertToInteractive('df-c11cf11d-8709-404e-a776-7f5bf960866e')\"\n",
              "            title=\"Convert this dataframe to an interactive table.\"\n",
              "            style=\"display:none;\">\n",
              "\n",
              "  <svg xmlns=\"http://www.w3.org/2000/svg\" height=\"24px\" viewBox=\"0 -960 960 960\">\n",
              "    <path d=\"M120-120v-720h720v720H120Zm60-500h600v-160H180v160Zm220 220h160v-160H400v160Zm0 220h160v-160H400v160ZM180-400h160v-160H180v160Zm440 0h160v-160H620v160ZM180-180h160v-160H180v160Zm440 0h160v-160H620v160Z\"/>\n",
              "  </svg>\n",
              "    </button>\n",
              "\n",
              "  <style>\n",
              "    .colab-df-container {\n",
              "      display:flex;\n",
              "      gap: 12px;\n",
              "    }\n",
              "\n",
              "    .colab-df-convert {\n",
              "      background-color: #E8F0FE;\n",
              "      border: none;\n",
              "      border-radius: 50%;\n",
              "      cursor: pointer;\n",
              "      display: none;\n",
              "      fill: #1967D2;\n",
              "      height: 32px;\n",
              "      padding: 0 0 0 0;\n",
              "      width: 32px;\n",
              "    }\n",
              "\n",
              "    .colab-df-convert:hover {\n",
              "      background-color: #E2EBFA;\n",
              "      box-shadow: 0px 1px 2px rgba(60, 64, 67, 0.3), 0px 1px 3px 1px rgba(60, 64, 67, 0.15);\n",
              "      fill: #174EA6;\n",
              "    }\n",
              "\n",
              "    .colab-df-buttons div {\n",
              "      margin-bottom: 4px;\n",
              "    }\n",
              "\n",
              "    [theme=dark] .colab-df-convert {\n",
              "      background-color: #3B4455;\n",
              "      fill: #D2E3FC;\n",
              "    }\n",
              "\n",
              "    [theme=dark] .colab-df-convert:hover {\n",
              "      background-color: #434B5C;\n",
              "      box-shadow: 0px 1px 3px 1px rgba(0, 0, 0, 0.15);\n",
              "      filter: drop-shadow(0px 1px 2px rgba(0, 0, 0, 0.3));\n",
              "      fill: #FFFFFF;\n",
              "    }\n",
              "  </style>\n",
              "\n",
              "    <script>\n",
              "      const buttonEl =\n",
              "        document.querySelector('#df-c11cf11d-8709-404e-a776-7f5bf960866e button.colab-df-convert');\n",
              "      buttonEl.style.display =\n",
              "        google.colab.kernel.accessAllowed ? 'block' : 'none';\n",
              "\n",
              "      async function convertToInteractive(key) {\n",
              "        const element = document.querySelector('#df-c11cf11d-8709-404e-a776-7f5bf960866e');\n",
              "        const dataTable =\n",
              "          await google.colab.kernel.invokeFunction('convertToInteractive',\n",
              "                                                    [key], {});\n",
              "        if (!dataTable) return;\n",
              "\n",
              "        const docLinkHtml = 'Like what you see? Visit the ' +\n",
              "          '<a target=\"_blank\" href=https://colab.research.google.com/notebooks/data_table.ipynb>data table notebook</a>'\n",
              "          + ' to learn more about interactive tables.';\n",
              "        element.innerHTML = '';\n",
              "        dataTable['output_type'] = 'display_data';\n",
              "        await google.colab.output.renderOutput(dataTable, element);\n",
              "        const docLink = document.createElement('div');\n",
              "        docLink.innerHTML = docLinkHtml;\n",
              "        element.appendChild(docLink);\n",
              "      }\n",
              "    </script>\n",
              "  </div>\n",
              "\n",
              "\n",
              "    <div id=\"df-9bb03138-b1c1-49c6-bbce-e2048bb56c08\">\n",
              "      <button class=\"colab-df-quickchart\" onclick=\"quickchart('df-9bb03138-b1c1-49c6-bbce-e2048bb56c08')\"\n",
              "                title=\"Suggest charts\"\n",
              "                style=\"display:none;\">\n",
              "\n",
              "<svg xmlns=\"http://www.w3.org/2000/svg\" height=\"24px\"viewBox=\"0 0 24 24\"\n",
              "     width=\"24px\">\n",
              "    <g>\n",
              "        <path d=\"M19 3H5c-1.1 0-2 .9-2 2v14c0 1.1.9 2 2 2h14c1.1 0 2-.9 2-2V5c0-1.1-.9-2-2-2zM9 17H7v-7h2v7zm4 0h-2V7h2v10zm4 0h-2v-4h2v4z\"/>\n",
              "    </g>\n",
              "</svg>\n",
              "      </button>\n",
              "\n",
              "<style>\n",
              "  .colab-df-quickchart {\n",
              "      --bg-color: #E8F0FE;\n",
              "      --fill-color: #1967D2;\n",
              "      --hover-bg-color: #E2EBFA;\n",
              "      --hover-fill-color: #174EA6;\n",
              "      --disabled-fill-color: #AAA;\n",
              "      --disabled-bg-color: #DDD;\n",
              "  }\n",
              "\n",
              "  [theme=dark] .colab-df-quickchart {\n",
              "      --bg-color: #3B4455;\n",
              "      --fill-color: #D2E3FC;\n",
              "      --hover-bg-color: #434B5C;\n",
              "      --hover-fill-color: #FFFFFF;\n",
              "      --disabled-bg-color: #3B4455;\n",
              "      --disabled-fill-color: #666;\n",
              "  }\n",
              "\n",
              "  .colab-df-quickchart {\n",
              "    background-color: var(--bg-color);\n",
              "    border: none;\n",
              "    border-radius: 50%;\n",
              "    cursor: pointer;\n",
              "    display: none;\n",
              "    fill: var(--fill-color);\n",
              "    height: 32px;\n",
              "    padding: 0;\n",
              "    width: 32px;\n",
              "  }\n",
              "\n",
              "  .colab-df-quickchart:hover {\n",
              "    background-color: var(--hover-bg-color);\n",
              "    box-shadow: 0 1px 2px rgba(60, 64, 67, 0.3), 0 1px 3px 1px rgba(60, 64, 67, 0.15);\n",
              "    fill: var(--button-hover-fill-color);\n",
              "  }\n",
              "\n",
              "  .colab-df-quickchart-complete:disabled,\n",
              "  .colab-df-quickchart-complete:disabled:hover {\n",
              "    background-color: var(--disabled-bg-color);\n",
              "    fill: var(--disabled-fill-color);\n",
              "    box-shadow: none;\n",
              "  }\n",
              "\n",
              "  .colab-df-spinner {\n",
              "    border: 2px solid var(--fill-color);\n",
              "    border-color: transparent;\n",
              "    border-bottom-color: var(--fill-color);\n",
              "    animation:\n",
              "      spin 1s steps(1) infinite;\n",
              "  }\n",
              "\n",
              "  @keyframes spin {\n",
              "    0% {\n",
              "      border-color: transparent;\n",
              "      border-bottom-color: var(--fill-color);\n",
              "      border-left-color: var(--fill-color);\n",
              "    }\n",
              "    20% {\n",
              "      border-color: transparent;\n",
              "      border-left-color: var(--fill-color);\n",
              "      border-top-color: var(--fill-color);\n",
              "    }\n",
              "    30% {\n",
              "      border-color: transparent;\n",
              "      border-left-color: var(--fill-color);\n",
              "      border-top-color: var(--fill-color);\n",
              "      border-right-color: var(--fill-color);\n",
              "    }\n",
              "    40% {\n",
              "      border-color: transparent;\n",
              "      border-right-color: var(--fill-color);\n",
              "      border-top-color: var(--fill-color);\n",
              "    }\n",
              "    60% {\n",
              "      border-color: transparent;\n",
              "      border-right-color: var(--fill-color);\n",
              "    }\n",
              "    80% {\n",
              "      border-color: transparent;\n",
              "      border-right-color: var(--fill-color);\n",
              "      border-bottom-color: var(--fill-color);\n",
              "    }\n",
              "    90% {\n",
              "      border-color: transparent;\n",
              "      border-bottom-color: var(--fill-color);\n",
              "    }\n",
              "  }\n",
              "</style>\n",
              "\n",
              "      <script>\n",
              "        async function quickchart(key) {\n",
              "          const quickchartButtonEl =\n",
              "            document.querySelector('#' + key + ' button');\n",
              "          quickchartButtonEl.disabled = true;  // To prevent multiple clicks.\n",
              "          quickchartButtonEl.classList.add('colab-df-spinner');\n",
              "          try {\n",
              "            const charts = await google.colab.kernel.invokeFunction(\n",
              "                'suggestCharts', [key], {});\n",
              "          } catch (error) {\n",
              "            console.error('Error during call to suggestCharts:', error);\n",
              "          }\n",
              "          quickchartButtonEl.classList.remove('colab-df-spinner');\n",
              "          quickchartButtonEl.classList.add('colab-df-quickchart-complete');\n",
              "        }\n",
              "        (() => {\n",
              "          let quickchartButtonEl =\n",
              "            document.querySelector('#df-9bb03138-b1c1-49c6-bbce-e2048bb56c08 button');\n",
              "          quickchartButtonEl.style.display =\n",
              "            google.colab.kernel.accessAllowed ? 'block' : 'none';\n",
              "        })();\n",
              "      </script>\n",
              "    </div>\n",
              "\n",
              "    </div>\n",
              "  </div>\n"
            ],
            "application/vnd.google.colaboratory.intrinsic+json": {
              "type": "dataframe",
              "variable_name": "df",
              "summary": "{\n  \"name\": \"df\",\n  \"rows\": 891,\n  \"fields\": [\n    {\n      \"column\": \"Id_Pasajero\",\n      \"properties\": {\n        \"dtype\": \"number\",\n        \"std\": 257,\n        \"min\": 1,\n        \"max\": 891,\n        \"num_unique_values\": 891,\n        \"samples\": [\n          710,\n          440,\n          841\n        ],\n        \"semantic_type\": \"\",\n        \"description\": \"\"\n      }\n    },\n    {\n      \"column\": \"Survived\",\n      \"properties\": {\n        \"dtype\": \"number\",\n        \"std\": 0,\n        \"min\": 0,\n        \"max\": 1,\n        \"num_unique_values\": 2,\n        \"samples\": [\n          1,\n          0\n        ],\n        \"semantic_type\": \"\",\n        \"description\": \"\"\n      }\n    },\n    {\n      \"column\": \"Clase\",\n      \"properties\": {\n        \"dtype\": \"number\",\n        \"std\": 0,\n        \"min\": 1,\n        \"max\": 3,\n        \"num_unique_values\": 3,\n        \"samples\": [\n          3,\n          1\n        ],\n        \"semantic_type\": \"\",\n        \"description\": \"\"\n      }\n    },\n    {\n      \"column\": \"Nombre\",\n      \"properties\": {\n        \"dtype\": \"string\",\n        \"num_unique_values\": 891,\n        \"samples\": [\n          \"Moubarek, Master. Halim Gonios (\\\"William George\\\")\",\n          \"Kvillner, Mr. Johan Henrik Johannesson\"\n        ],\n        \"semantic_type\": \"\",\n        \"description\": \"\"\n      }\n    },\n    {\n      \"column\": \"Sexo\",\n      \"properties\": {\n        \"dtype\": \"category\",\n        \"num_unique_values\": 2,\n        \"samples\": [\n          \"Femenino\",\n          \"Masculino\"\n        ],\n        \"semantic_type\": \"\",\n        \"description\": \"\"\n      }\n    },\n    {\n      \"column\": \"Edad\",\n      \"properties\": {\n        \"dtype\": \"number\",\n        \"std\": 14.526497332334044,\n        \"min\": 0.42,\n        \"max\": 80.0,\n        \"num_unique_values\": 88,\n        \"samples\": [\n          0.75,\n          22.0\n        ],\n        \"semantic_type\": \"\",\n        \"description\": \"\"\n      }\n    },\n    {\n      \"column\": \"Familiares\",\n      \"properties\": {\n        \"dtype\": \"number\",\n        \"std\": 0,\n        \"min\": 0,\n        \"max\": 6,\n        \"num_unique_values\": 7,\n        \"samples\": [\n          0,\n          1\n        ],\n        \"semantic_type\": \"\",\n        \"description\": \"\"\n      }\n    },\n    {\n      \"column\": \"Tiquete\",\n      \"properties\": {\n        \"dtype\": \"string\",\n        \"num_unique_values\": 681,\n        \"samples\": [\n          11774,\n          248740\n        ],\n        \"semantic_type\": \"\",\n        \"description\": \"\"\n      }\n    },\n    {\n      \"column\": \"Tarifa\",\n      \"properties\": {\n        \"dtype\": \"number\",\n        \"std\": 49.693388596435504,\n        \"min\": 0.0,\n        \"max\": 512.33,\n        \"num_unique_values\": 234,\n        \"samples\": [\n          8.65,\n          42.4\n        ],\n        \"semantic_type\": \"\",\n        \"description\": \"\"\n      }\n    },\n    {\n      \"column\": \"Cabina\",\n      \"properties\": {\n        \"dtype\": \"category\",\n        \"num_unique_values\": 147,\n        \"samples\": [\n          \"D45\",\n          \"B49\"\n        ],\n        \"semantic_type\": \"\",\n        \"description\": \"\"\n      }\n    },\n    {\n      \"column\": \"Embarcado\",\n      \"properties\": {\n        \"dtype\": \"category\",\n        \"num_unique_values\": 3,\n        \"samples\": [\n          \"S\",\n          \"C\"\n        ],\n        \"semantic_type\": \"\",\n        \"description\": \"\"\n      }\n    }\n  ]\n}"
            }
          },
          "metadata": {},
          "execution_count": 4
        }
      ]
    },
    {
      "cell_type": "code",
      "source": [
        "os.environ [\"OPENAI_API_KEY\"] = \"####################################################################\"\n",
        "model = \"gpt-3.5-turbo-16k\"\n"
      ],
      "metadata": {
        "id": "FemkT00ucoHK"
      },
      "execution_count": 5,
      "outputs": []
    },
    {
      "cell_type": "code",
      "source": [
        "llm_model = ChatOpenAI(model=model, temperature=0, verbose=True, streaming=True)\n",
        "\n"
      ],
      "metadata": {
        "id": "luuBhVQdadLR"
      },
      "execution_count": 6,
      "outputs": []
    },
    {
      "cell_type": "code",
      "source": [
        "df_parser = PandasDataFrameOutputParser(dataframe=df)\n"
      ],
      "metadata": {
        "id": "wFmpIY93oZqk"
      },
      "execution_count": null,
      "outputs": []
    },
    {
      "cell_type": "code",
      "source": [
        "print(df_parser.get_format_instructions())"
      ],
      "metadata": {
        "colab": {
          "base_uri": "https://localhost:8080/"
        },
        "id": "DrNcpB-xosfw",
        "outputId": "14d8f008-d419-4415-b970-216252f55c13"
      },
      "execution_count": null,
      "outputs": [
        {
          "output_type": "stream",
          "name": "stdout",
          "text": [
            "The output should be formatted as a string as the operation, followed by a colon, followed by the column or row to be queried on, followed by optional array parameters.\n",
            "1. The column names are limited to the possible columns below.\n",
            "2. Arrays must either be a comma-separated list of numbers formatted as [1,3,5], or it must be in range of numbers formatted as [0..4].\n",
            "3. Remember that arrays are optional and not necessarily required.\n",
            "4. If the column is not in the possible columns or the operation is not a valid Pandas DataFrame operation, return why it is invalid as a sentence starting with either \"Invalid column\" or \"Invalid operation\".\n",
            "\n",
            "As an example, for the formats:\n",
            "1. String \"column:num_legs\" is a well-formatted instance which gets the column num_legs, where num_legs is a possible column.\n",
            "2. String \"row:1\" is a well-formatted instance which gets row 1.\n",
            "3. String \"column:num_legs[1,2]\" is a well-formatted instance which gets the column num_legs for rows 1 and 2, where num_legs is a possible column.\n",
            "4. String \"row:1[num_legs]\" is a well-formatted instance which gets row 1, but for just column num_legs, where num_legs is a possible column.\n",
            "5. String \"mean:num_legs[1..3]\" is a well-formatted instance which takes the mean of num_legs from rows 1 to 3, where num_legs is a possible column and mean is a valid Pandas DataFrame operation.\n",
            "6. String \"do_something:num_legs\" is a badly-formatted instance, where do_something is not a valid Pandas DataFrame operation.\n",
            "7. String \"mean:invalid_col\" is a badly-formatted instance, where invalid_col is not a possible column.\n",
            "\n",
            "Here are the possible columns:\n",
            "```\n",
            "Id_Pasajero, Survived, Clase, Nombre, Sexo, Edad, Familiares, Tiquete, Tarifa, Cabina, Embarcado\n",
            "```\n",
            "\n"
          ]
        }
      ]
    },
    {
      "cell_type": "markdown",
      "source": [
        "La salida debe estar formateada como una cadena con la operación, seguida de dos puntos, seguida de la colurnna o fila a consultar, seguida de parámetros opcionales de arreglo.\n",
        "1. Los nombres de las columnas se limitan a las posibles columnas a continuación.\n",
        "2. Los arreglos deben ser una lista de números separados por comas formateados como [1,3,5], o deben estar en un rango de números formateados como [0..4].\n",
        "3. Recuerda que los arreglos son opcionales y no necesariamente requeridas.\n",
        "4. Si la columna no está en las columnas posibles o la operación no es una operación válida de Pandas DataFrame, devuelve la razón de por qué es inválida como una oración que comience con \"Columna inválida\" o \"Operación inválida\".\n",
        "\n",
        "Como ejemplo, para los formatos:\n",
        "1. La cadena \"column:num_legs\" es un ejemplo bien formateado que obtiene la columna num legs, donde num_legs es una columna posible.\n",
        "2. La cadena \"row:1\" es un ejemplo bien formateado que obtiene la fila 1.\n",
        "3. La cadena \"column:num_legs[1,2]\" es un ejemplo bien formateado que obtiene la columna num legs para las filas 1 y 2, donde num_legs es una columna posible.\n",
        "4. La cadena \"row:1[num_legs]\" es un ejemplo bien formateado que obtiene la fila 1, pero solo para la columna num legs, donde num_legs es una columna\n",
        "posible.\n",
        "5. La cadena \"mean:num_legs[1..3] es un ejemplo bien formateado que toma la media de num legs desde las filas 1 a 3, donde num legs es una columna\n",
        "posible y mean es una operación válida de Pandas DataFrame.\n"
      ],
      "metadata": {
        "id": "y_AJZX2Fo5fu"
      }
    },
    {
      "cell_type": "code",
      "source": [
        "prompt = PromptTemplate(\n",
        "    template = \"Responde al usuario su consulta.\\n{format_instructions}\\n{query}\\n\",\n",
        "    input_variables=[\"query\"],\n",
        "    partial_variables={\"format_instructions\": df_parser.get_format_instructions()},\n",
        ")"
      ],
      "metadata": {
        "id": "76IzG1viajKZ"
      },
      "execution_count": null,
      "outputs": []
    },
    {
      "cell_type": "code",
      "source": [
        "prompt = PromptTemplate(\n",
        "    template = \"Responde al usuario su consulta. La respuesta DEBE estar en el formato:\\n{format_instructions}\\nSolo incluye el comando y los parámetros necesarios. NO incluyas texto adicional.\\nConsulta: {query}\\n\",\n",
        "    input_variables=[\"query\"],\n",
        "    partial_variables={\"format_instructions\": df_parser.get_format_instructions()},\n",
        ")"
      ],
      "metadata": {
        "id": "zwnO-UwerY2m"
      },
      "execution_count": null,
      "outputs": []
    },
    {
      "cell_type": "code",
      "source": [
        "chain = prompt | llm_model | df_parser"
      ],
      "metadata": {
        "id": "vXRse_PcalyF"
      },
      "execution_count": null,
      "outputs": []
    },
    {
      "cell_type": "code",
      "source": [
        "chain.invoke({\"query\": \"dame la primera fila.\"})"
      ],
      "metadata": {
        "colab": {
          "base_uri": "https://localhost:8080/"
        },
        "id": "VAEsweqne317",
        "outputId": "0b96c294-fd24-480c-8d84-005d66732a81"
      },
      "execution_count": null,
      "outputs": [
        {
          "output_type": "execute_result",
          "data": {
            "text/plain": [
              "{'0': Id_Pasajero                          1\n",
              " Survived                             0\n",
              " Clase                                3\n",
              " Nombre         Braund, Mr. Owen Harris\n",
              " Sexo                         Masculino\n",
              " Edad                              22.0\n",
              " Familiares                           0\n",
              " Tiquete                      A/5 21171\n",
              " Tarifa                            7.25\n",
              " Cabina                             NaN\n",
              " Embarcado                            S\n",
              " Name: 0, dtype: object}"
            ]
          },
          "metadata": {},
          "execution_count": 19
        }
      ]
    },
    {
      "cell_type": "code",
      "source": [
        "chain.invoke({\"query\": \"dame la media de la columna edad.\"})"
      ],
      "metadata": {
        "id": "Kae8DBL0eWB1",
        "colab": {
          "base_uri": "https://localhost:8080/"
        },
        "outputId": "eaf6358e-12be-44e7-93f7-f4806af1ca40"
      },
      "execution_count": null,
      "outputs": [
        {
          "output_type": "execute_result",
          "data": {
            "text/plain": [
              "{'mean': np.float64(29.69911764705882)}"
            ]
          },
          "metadata": {},
          "execution_count": 20
        }
      ]
    },
    {
      "cell_type": "code",
      "source": [
        "df[\"Edad\"].mean()"
      ],
      "metadata": {
        "colab": {
          "base_uri": "https://localhost:8080/"
        },
        "id": "LWcivZEJfskn",
        "outputId": "c702e350-2090-4ef4-f3c6-54b2eea59452"
      },
      "execution_count": null,
      "outputs": [
        {
          "output_type": "execute_result",
          "data": {
            "text/plain": [
              "np.float64(29.69911764705882)"
            ]
          },
          "metadata": {},
          "execution_count": 23
        }
      ]
    },
    {
      "cell_type": "code",
      "source": [
        "pandas_df_agent = create_pandas_dataframe_agent(llm=llm_model, df=df, verbose=True,\n",
        "                                                handle_parsing_errors=True,\n",
        "                                                agent_type=AgentType.OPENAI_FUNCTIONS,\n",
        "                                                return_intermediate_steps=True,\n",
        "                                                allow_dangerous_code=True)"
      ],
      "metadata": {
        "id": "9OnzNz8Cf0B5",
        "colab": {
          "base_uri": "https://localhost:8080/"
        },
        "outputId": "67500a9a-f37c-4938-ea12-a895a814abad"
      },
      "execution_count": null,
      "outputs": [
        {
          "output_type": "stream",
          "name": "stderr",
          "text": [
            "/usr/local/lib/python3.11/dist-packages/langchain_experimental/agents/agent_toolkits/pandas/base.py:283: UserWarning: Received additional kwargs {'handle_parsing_errors': True} which are no longer supported.\n",
            "  warnings.warn(\n"
          ]
        }
      ]
    },
    {
      "cell_type": "code",
      "source": [
        "pandas_result = pandas_df_agent({\"input\": \"que tamaño tiene de df?\"})"
      ],
      "metadata": {
        "id": "hNrZMENQgD1Z",
        "colab": {
          "base_uri": "https://localhost:8080/"
        },
        "outputId": "726e7554-72df-49ca-a8c2-2879e3029d3e"
      },
      "execution_count": null,
      "outputs": [
        {
          "output_type": "stream",
          "name": "stderr",
          "text": [
            "<ipython-input-26-1269879456>:1: LangChainDeprecationWarning: The method `Chain.__call__` was deprecated in langchain 0.1.0 and will be removed in 1.0. Use :meth:`~invoke` instead.\n",
            "  pandas_result = pandas_df_agent({\"input\": \"que tamaño tiene de df?\"})\n"
          ]
        },
        {
          "output_type": "stream",
          "name": "stdout",
          "text": [
            "\n",
            "\n",
            "\u001b[1m> Entering new AgentExecutor chain...\u001b[0m\n",
            "\u001b[32;1m\u001b[1;3m\n",
            "Invoking: `python_repl_ast` with `{'query': 'df.shape'}`\n",
            "\n",
            "\n",
            "\u001b[0m\u001b[36;1m\u001b[1;3m(891, 11)\u001b[0m\u001b[32;1m\u001b[1;3mEl dataframe `df` tiene 891 filas y 11 columnas.\u001b[0m\n",
            "\n",
            "\u001b[1m> Finished chain.\u001b[0m\n"
          ]
        }
      ]
    },
    {
      "cell_type": "code",
      "source": [
        "df.shape"
      ],
      "metadata": {
        "colab": {
          "base_uri": "https://localhost:8080/"
        },
        "id": "w_DLBeREtYKS",
        "outputId": "894caf1d-d2ee-4247-b3b5-0803eafb2358"
      },
      "execution_count": null,
      "outputs": [
        {
          "output_type": "execute_result",
          "data": {
            "text/plain": [
              "(891, 11)"
            ]
          },
          "metadata": {},
          "execution_count": 28
        }
      ]
    },
    {
      "cell_type": "markdown",
      "source": [
        "#**Pasar Excel a SQl y comparar consulta... ?**"
      ],
      "metadata": {
        "id": "t9P6oCegPWT2"
      }
    },
    {
      "cell_type": "code",
      "source": [
        "import sqlite3"
      ],
      "metadata": {
        "id": "UpiHsxBOPV2m"
      },
      "execution_count": 7,
      "outputs": []
    },
    {
      "cell_type": "code",
      "source": [
        "# Conectar o crear la base de datos SQLite\n",
        "conn = sqlite3.connect('titanic.db')\n",
        "cursor = conn.cursor()"
      ],
      "metadata": {
        "id": "LK-pqvyhQGU2"
      },
      "execution_count": 8,
      "outputs": []
    },
    {
      "cell_type": "code",
      "source": [
        "# Crear la tabla en la base de datos SQLite\n",
        "cursor.execute(\"\"\"\n",
        "CREATE TABLE IF NOT EXISTS passengers (\n",
        "    Id_Pasajero INTEGER PRIMARY KEY,\n",
        "    Survived INTEGER,\n",
        "    Clase INTEGER,\n",
        "    Nombre TEXT,\n",
        "    Sexo TEXT,\n",
        "    Edad INTEGER,\n",
        "    Familia INTEGER,\n",
        "    Tiquete TEXT,\n",
        "    Tarifa REAL,\n",
        "    Cabina TEXT,\n",
        "    Embarque TEXT\n",
        ");\n",
        "\"\"\")\n",
        "\n",
        "# Commit para guardar los cambios\n",
        "conn.commit()"
      ],
      "metadata": {
        "id": "QkslnfnGQKZG"
      },
      "execution_count": 9,
      "outputs": []
    },
    {
      "cell_type": "code",
      "source": [
        "# Convertir el DataFrame a una lista de tuplas para insertar en la base de datos\n",
        "data_tuples = [tuple(x) for x in df.to_numpy()]\n",
        "\n",
        "# Insertar los datos en la tabla\n",
        "cursor.executemany(\"\"\"\n",
        "INSERT INTO passengers (Id_Pasajero, Survived, Clase, Nombre, Sexo, Edad,\n",
        "                        Familia, Tiquete, Tarifa, Cabina, Embarque)\n",
        "VALUES (?, ?, ?, ?, ?, ?, ?, ?, ?, ?, ?);\n",
        "\"\"\", data_tuples)\n",
        "\n",
        "# Commit para guardar los cambios\n",
        "conn.commit()\n",
        "\n",
        "# Cerrar la conexión\n",
        "conn.close()\n"
      ],
      "metadata": {
        "id": "2SF5NqmLQ8lA"
      },
      "execution_count": 10,
      "outputs": []
    },
    {
      "cell_type": "code",
      "source": [
        "pip install --upgrade langchain\n"
      ],
      "metadata": {
        "colab": {
          "base_uri": "https://localhost:8080/"
        },
        "id": "Rv7zq_VxR2e6",
        "outputId": "1ea7c932-1737-4284-9fb5-d0695cbac7d0"
      },
      "execution_count": 14,
      "outputs": [
        {
          "output_type": "stream",
          "name": "stdout",
          "text": [
            "Requirement already satisfied: langchain in /usr/local/lib/python3.11/dist-packages (0.3.25)\n",
            "Requirement already satisfied: langchain-core<1.0.0,>=0.3.58 in /usr/local/lib/python3.11/dist-packages (from langchain) (0.3.65)\n",
            "Requirement already satisfied: langchain-text-splitters<1.0.0,>=0.3.8 in /usr/local/lib/python3.11/dist-packages (from langchain) (0.3.8)\n",
            "Requirement already satisfied: langsmith<0.4,>=0.1.17 in /usr/local/lib/python3.11/dist-packages (from langchain) (0.3.45)\n",
            "Requirement already satisfied: pydantic<3.0.0,>=2.7.4 in /usr/local/lib/python3.11/dist-packages (from langchain) (2.11.7)\n",
            "Requirement already satisfied: SQLAlchemy<3,>=1.4 in /usr/local/lib/python3.11/dist-packages (from langchain) (2.0.41)\n",
            "Requirement already satisfied: requests<3,>=2 in /usr/local/lib/python3.11/dist-packages (from langchain) (2.32.3)\n",
            "Requirement already satisfied: PyYAML>=5.3 in /usr/local/lib/python3.11/dist-packages (from langchain) (6.0.2)\n",
            "Requirement already satisfied: tenacity!=8.4.0,<10.0.0,>=8.1.0 in /usr/local/lib/python3.11/dist-packages (from langchain-core<1.0.0,>=0.3.58->langchain) (9.1.2)\n",
            "Requirement already satisfied: jsonpatch<2.0,>=1.33 in /usr/local/lib/python3.11/dist-packages (from langchain-core<1.0.0,>=0.3.58->langchain) (1.33)\n",
            "Requirement already satisfied: packaging<25,>=23.2 in /usr/local/lib/python3.11/dist-packages (from langchain-core<1.0.0,>=0.3.58->langchain) (24.2)\n",
            "Requirement already satisfied: typing-extensions>=4.7 in /usr/local/lib/python3.11/dist-packages (from langchain-core<1.0.0,>=0.3.58->langchain) (4.14.0)\n",
            "Requirement already satisfied: httpx<1,>=0.23.0 in /usr/local/lib/python3.11/dist-packages (from langsmith<0.4,>=0.1.17->langchain) (0.28.1)\n",
            "Requirement already satisfied: orjson<4.0.0,>=3.9.14 in /usr/local/lib/python3.11/dist-packages (from langsmith<0.4,>=0.1.17->langchain) (3.10.18)\n",
            "Requirement already satisfied: requests-toolbelt<2.0.0,>=1.0.0 in /usr/local/lib/python3.11/dist-packages (from langsmith<0.4,>=0.1.17->langchain) (1.0.0)\n",
            "Requirement already satisfied: zstandard<0.24.0,>=0.23.0 in /usr/local/lib/python3.11/dist-packages (from langsmith<0.4,>=0.1.17->langchain) (0.23.0)\n",
            "Requirement already satisfied: annotated-types>=0.6.0 in /usr/local/lib/python3.11/dist-packages (from pydantic<3.0.0,>=2.7.4->langchain) (0.7.0)\n",
            "Requirement already satisfied: pydantic-core==2.33.2 in /usr/local/lib/python3.11/dist-packages (from pydantic<3.0.0,>=2.7.4->langchain) (2.33.2)\n",
            "Requirement already satisfied: typing-inspection>=0.4.0 in /usr/local/lib/python3.11/dist-packages (from pydantic<3.0.0,>=2.7.4->langchain) (0.4.1)\n",
            "Requirement already satisfied: charset-normalizer<4,>=2 in /usr/local/lib/python3.11/dist-packages (from requests<3,>=2->langchain) (3.4.2)\n",
            "Requirement already satisfied: idna<4,>=2.5 in /usr/local/lib/python3.11/dist-packages (from requests<3,>=2->langchain) (3.10)\n",
            "Requirement already satisfied: urllib3<3,>=1.21.1 in /usr/local/lib/python3.11/dist-packages (from requests<3,>=2->langchain) (2.4.0)\n",
            "Requirement already satisfied: certifi>=2017.4.17 in /usr/local/lib/python3.11/dist-packages (from requests<3,>=2->langchain) (2025.6.15)\n",
            "Requirement already satisfied: greenlet>=1 in /usr/local/lib/python3.11/dist-packages (from SQLAlchemy<3,>=1.4->langchain) (3.2.3)\n",
            "Requirement already satisfied: anyio in /usr/local/lib/python3.11/dist-packages (from httpx<1,>=0.23.0->langsmith<0.4,>=0.1.17->langchain) (4.9.0)\n",
            "Requirement already satisfied: httpcore==1.* in /usr/local/lib/python3.11/dist-packages (from httpx<1,>=0.23.0->langsmith<0.4,>=0.1.17->langchain) (1.0.9)\n",
            "Requirement already satisfied: h11>=0.16 in /usr/local/lib/python3.11/dist-packages (from httpcore==1.*->httpx<1,>=0.23.0->langsmith<0.4,>=0.1.17->langchain) (0.16.0)\n",
            "Requirement already satisfied: jsonpointer>=1.9 in /usr/local/lib/python3.11/dist-packages (from jsonpatch<2.0,>=1.33->langchain-core<1.0.0,>=0.3.58->langchain) (3.0.0)\n",
            "Requirement already satisfied: sniffio>=1.1 in /usr/local/lib/python3.11/dist-packages (from anyio->httpx<1,>=0.23.0->langsmith<0.4,>=0.1.17->langchain) (1.3.1)\n"
          ]
        }
      ]
    },
    {
      "cell_type": "code",
      "source": [
        "import sqlite3\n",
        "from langchain.llms import OpenAI\n",
        "from langchain.agents import initialize_agent, Tool, AgentType\n",
        "from langchain.prompts import PromptTemplate\n",
        "from langchain.sql_database import SQLDatabase\n",
        "from langchain_experimental.sql import SQLDatabaseChain\n",
        "from sqlalchemy import create_engine # Import create_engine\n",
        "\n",
        "# Conectar a la base de datos SQLite usando SQLAlchemy engine\n",
        "# The URL format is 'sqlite:///your_database_name.db' for a file-based database\n",
        "engine = create_engine('sqlite:///titanic.db')\n",
        "\n",
        "# Crear una instancia de la base de datos SQL a partir del engine de SQLAlchemy\n",
        "db = SQLDatabase(engine)\n",
        "\n",
        "# Configurar el modelo de OpenAI\n",
        "llm = OpenAI(temperature=0)\n",
        "\n",
        "# Crear el SQLDatabaseChain\n",
        "database_chain = SQLDatabaseChain(llm=llm, database=db, verbose=True) # Adding verbose=True for debugging\n",
        "\n",
        "\n",
        "# Realizar una consulta de ejemplo\n",
        "query = \"SELECT * FROM passengers WHERE Survived = 1;\"\n",
        "response = database_chain.run(query)\n",
        "print(response)"
      ],
      "metadata": {
        "colab": {
          "base_uri": "https://localhost:8080/"
        },
        "id": "pYcoYZ85SYSs",
        "outputId": "0b267c0c-74d3-4ba0-e6c2-224839703447"
      },
      "execution_count": 20,
      "outputs": [
        {
          "output_type": "stream",
          "name": "stderr",
          "text": [
            "/usr/local/lib/python3.11/dist-packages/langchain_experimental/sql/base.py:77: UserWarning: Directly instantiating an SQLDatabaseChain with an llm is deprecated. Please instantiate with llm_chain argument or using the from_llm class method.\n",
            "  warnings.warn(\n",
            "/tmp/ipython-input-20-2871579516.py:25: LangChainDeprecationWarning: The method `Chain.run` was deprecated in langchain 0.1.0 and will be removed in 1.0. Use :meth:`~invoke` instead.\n",
            "  response = database_chain.run(query)\n"
          ]
        },
        {
          "output_type": "stream",
          "name": "stdout",
          "text": [
            "\n",
            "\n",
            "\u001b[1m> Entering new SQLDatabaseChain chain...\u001b[0m\n",
            "SELECT * FROM passengers WHERE Survived = 1;\n",
            "SQLQuery:\u001b[32;1m\u001b[1;3mSELECT \"Id_Pasajero\", \"Clase\", \"Nombre\", \"Sexo\", \"Edad\", \"Familia\", \"Tiquete\", \"Tarifa\", \"Cabina\", \"Embarque\" FROM passengers WHERE Survived = 1 LIMIT 5;\u001b[0m\n",
            "SQLResult: \u001b[33;1m\u001b[1;3m[(2, 1, 'Cumings, Mrs. John Bradley (Florence Briggs Thayer)', 'Femenino', 38, 0, 'PC 17599', 71.28, 'C85', 'C'), (3, 3, 'Heikkinen, Miss. Laina', 'Femenino', 26, 0, 'STON/O2. 3101282', 7.93, None, 'S'), (4, 1, 'Futrelle, Mrs. Jacques Heath (Lily May Peel)', 'Femenino', 35, 0, '113803', 53.1, 'C123', 'S'), (9, 3, 'Johnson, Mrs. Oscar W (Elisabeth Vilhelmina Berg)', 'Femenino', 27, 2, '347742', 11.13, None, 'S'), (10, 2, 'Nasser, Mrs. Nicholas (Adele Achem)', 'Femenino', 14, 0, '237736', 30.07, None, 'C')]\u001b[0m\n",
            "Answer:\u001b[32;1m\u001b[1;3mThere were 5 female passengers who survived.\u001b[0m\n",
            "\u001b[1m> Finished chain.\u001b[0m\n",
            "There were 5 female passengers who survived.\n"
          ]
        }
      ]
    },
    {
      "cell_type": "markdown",
      "source": [
        "#**Integración con el Agente LangChain**\n",
        "El siguiente paso será integrar el agente LangChain para que pueda decidir, dependiendo de la consulta, si usar SQL o el archivo XLSX como fuente de datos.\n",
        "\n",
        "Vamos a implementar un agente LangChain que reciba preguntas en lenguaje natural y decida automáticamente si la consulta debe hacerse en la base de datos SQL o en el archivo XLSX."
      ],
      "metadata": {
        "id": "eoXp_QaQTFLa"
      }
    },
    {
      "cell_type": "markdown",
      "source": [
        "**Crear las Herramientas**\n",
        "Necesitamos dos herramientas para el agente LangChain:\n",
        "\n",
        "- SQLTool: Para consultar la base de datos SQLite.\n",
        "- ExcelTool: Para consultar el archivo XLSX."
      ],
      "metadata": {
        "id": "X-hPRke8Um_s"
      }
    },
    {
      "cell_type": "markdown",
      "source": [
        "**Herramienta SQL para LangChain**\n",
        "\n",
        "Ya tienes la configuración de SQLDatabaseChain para hacer consultas a la base de datos. Ahora definimos una herramienta para LangChain que interactúa con esta base de datos:"
      ],
      "metadata": {
        "id": "Di-SNTliUrNq"
      }
    },
    {
      "cell_type": "code",
      "source": [
        "# Herramienta SQL\n",
        "def query_sql_database(query):\n",
        "    result = database_chain.run(query)\n",
        "    return result\n",
        "\n",
        "# Crear la herramienta SQL para LangChain\n",
        "sql_tool = Tool(\n",
        "    name=\"SQL Query\",\n",
        "    func=query_sql_database,\n",
        "    description=\"Utiliza la base de datos SQL para responder preguntas relacionadas con los pasajeros del Titanic.\"\n",
        ")\n"
      ],
      "metadata": {
        "id": "v3WMYBgrUuXJ"
      },
      "execution_count": 22,
      "outputs": []
    },
    {
      "cell_type": "markdown",
      "source": [
        "**Herramienta Excel para LangChain**\n",
        "\n",
        "Ahora vamos a definir una herramienta similar para el archivo XLSX que ya tienes:"
      ],
      "metadata": {
        "id": "Gl0DTonmUw32"
      }
    },
    {
      "cell_type": "code",
      "source": [
        "# Herramienta Excel para LangChain\n",
        "def query_excel_data(query):\n",
        "    filtered_df = excel_data.query(query)\n",
        "    return filtered_df.to_dict(orient='records')\n",
        "\n",
        "# Crear la herramienta Excel para LangChain\n",
        "excel_tool = Tool(\n",
        "    name=\"Excel Query\",\n",
        "    func=query_excel_data,\n",
        "    description=\"Utiliza el archivo Excel Titanic para responder preguntas relacionadas con los pasajeros.\"\n",
        ")\n"
      ],
      "metadata": {
        "id": "Q2wKA3OmUzMI"
      },
      "execution_count": 23,
      "outputs": []
    },
    {
      "cell_type": "markdown",
      "source": [
        "**Agente LangChain**\n",
        "\n",
        "Ahora que tenemos las herramientas para SQL y Excel, vamos a crear un agente que decida qué herramienta utilizar dependiendo de la consulta."
      ],
      "metadata": {
        "id": "-oxJbdQIU3Le"
      }
    },
    {
      "cell_type": "code",
      "source": [
        "# Herramientas disponibles para el agente\n",
        "tools = [sql_tool, excel_tool]\n",
        "\n",
        "# Crear el agente LangChain\n",
        "agent = initialize_agent(\n",
        "    tools, llm, agent_type=AgentType.ZERO_SHOT_REACT_DESCRIPTION, verbose=True\n",
        ")\n",
        "\n",
        "# Realizar una consulta ejemplo\n",
        "query_1 = \"¿Cuántos sobrevivientes había en el Titanic?\"\n",
        "query_2 = \"¿Cuáles eran las edades de los pasajeros que sobrevivieron?\"\n",
        "\n",
        "# Ejemplo de uso\n",
        "response_1 = agent.run(query_1)\n",
        "response_2 = agent.run(query_2)\n",
        "\n",
        "print(f\"Respuesta 1: {response_1}\")\n",
        "print(f\"Respuesta 2: {response_2}\")\n",
        "\n"
      ],
      "metadata": {
        "colab": {
          "base_uri": "https://localhost:8080/"
        },
        "id": "9HMEtguvU2GM",
        "outputId": "0028b65e-2a4a-401a-b10f-09b646b6f42b"
      },
      "execution_count": 24,
      "outputs": [
        {
          "output_type": "stream",
          "name": "stderr",
          "text": [
            "/tmp/ipython-input-24-4118640763.py:5: LangChainDeprecationWarning: LangChain agents will continue to be supported, but it is recommended for new use cases to be built with LangGraph. LangGraph offers a more flexible and full-featured framework for building agents, including support for tool-calling, persistence of state, and human-in-the-loop workflows. For details, refer to the `LangGraph documentation <https://langchain-ai.github.io/langgraph/>`_ as well as guides for `Migrating from AgentExecutor <https://python.langchain.com/docs/how_to/migrate_agent/>`_ and LangGraph's `Pre-built ReAct agent <https://langchain-ai.github.io/langgraph/how-tos/create-react-agent/>`_.\n",
            "  agent = initialize_agent(\n"
          ]
        },
        {
          "output_type": "stream",
          "name": "stdout",
          "text": [
            "\n",
            "\n",
            "\u001b[1m> Entering new AgentExecutor chain...\u001b[0m\n",
            "\u001b[32;1m\u001b[1;3m Para responder a esta pregunta, necesitamos encontrar el número de pasajeros que sobrevivieron en el Titanic.\n",
            "Action: SQL Query\n",
            "Action Input: SELECT COUNT(*) FROM passengers WHERE survived = 1\u001b[0m\n",
            "\n",
            "\u001b[1m> Entering new SQLDatabaseChain chain...\u001b[0m\n",
            "SELECT COUNT(*) FROM passengers WHERE survived = 1\n",
            "SQLQuery:\u001b[32;1m\u001b[1;3mSELECT COUNT(*) FROM passengers WHERE survived = 1\u001b[0m\n",
            "SQLResult: \u001b[33;1m\u001b[1;3m[(342,)]\u001b[0m\n",
            "Answer:\u001b[32;1m\u001b[1;3m342\u001b[0m\n",
            "\u001b[1m> Finished chain.\u001b[0m\n",
            "\n",
            "Observation: \u001b[36;1m\u001b[1;3m342\u001b[0m\n",
            "Thought:\u001b[32;1m\u001b[1;3m Ahora sabemos que hubo 342 sobrevivientes en el Titanic.\n",
            "Final Answer: 342 sobrevivientes en el Titanic.\u001b[0m\n",
            "\n",
            "\u001b[1m> Finished chain.\u001b[0m\n",
            "\n",
            "\n",
            "\u001b[1m> Entering new AgentExecutor chain...\u001b[0m\n",
            "\u001b[32;1m\u001b[1;3m Para responder a esta pregunta, necesitamos encontrar los pasajeros que sobrevivieron y luego obtener sus edades.\n",
            "Action: SQL Query\n",
            "Action Input: SELECT Age FROM passengers WHERE Survived = 1\u001b[0m\n",
            "\n",
            "\u001b[1m> Entering new SQLDatabaseChain chain...\u001b[0m\n",
            "SELECT Age FROM passengers WHERE Survived = 1\n",
            "SQLQuery:\u001b[32;1m\u001b[1;3mSELECT \"Edad\" FROM passengers WHERE \"Survived\" = 1 LIMIT 5\u001b[0m\n",
            "SQLResult: \u001b[33;1m\u001b[1;3m[(38,), (26,), (35,), (27,), (14,)]\u001b[0m\n",
            "Answer:\u001b[32;1m\u001b[1;3mThe ages of the passengers who survived are 38, 26, 35, 27, and 14.\u001b[0m\n",
            "\u001b[1m> Finished chain.\u001b[0m\n",
            "\n",
            "Observation: \u001b[36;1m\u001b[1;3mThe ages of the passengers who survived are 38, 26, 35, 27, and 14.\u001b[0m\n",
            "Thought:\u001b[32;1m\u001b[1;3m Ahora sabemos las edades de los pasajeros que sobrevivieron.\n",
            "Final Answer: Las edades de los pasajeros que sobrevivieron son 38, 26, 35, 27 y 14.\u001b[0m\n",
            "\n",
            "\u001b[1m> Finished chain.\u001b[0m\n",
            "Respuesta 1: 342 sobrevivientes en el Titanic.\n",
            "Respuesta 2: Las edades de los pasajeros que sobrevivieron son 38, 26, 35, 27 y 14.\n"
          ]
        }
      ]
    },
    {
      "cell_type": "markdown",
      "source": [
        "**Funcionamiento del Agente**\n",
        "\n",
        "- El agente LangChain selecciona automáticamente la herramienta correcta (SQL o Excel) en función de la pregunta.\n",
        "\n",
        "- Si la pregunta se puede responder mejor con SQL (por ejemplo, \"¿Cuántos sobrevivientes había?\"), la consulta se enviará a la base de datos SQLite.\n",
        "\n",
        "- Si la pregunta requiere un análisis más detallado o específico, como filtrar por edad de los pasajeros sobrevivientes, el agente utilizará el archivo XLSX.\n",
        "\n",
        "**Lo que paso...**\n",
        "\n",
        "- Consulta sobre los sobrevivientes: El agente detectó que la consulta requería contar los sobrevivientes, así que ejecutó la consulta **SELECT COUNT(*) FROM passengers WHERE survived = 1** en la base de datos SQL y obtuvo la respuesta 342.\n",
        "\n",
        "- Consulta sobre las edades de los sobrevivientes: Luego, para la pregunta sobre las edades, el agente entendió que necesitaba obtener las edades de los pasajeros sobrevivientes y ejecutó la consulta **SELECT Age FROM passengers WHERE Survived = 1** en la base de datos SQL, devolviendo una lista de edades.\n",
        "\n"
      ],
      "metadata": {
        "id": "uLrnZ5pDVPbO"
      }
    },
    {
      "cell_type": "markdown",
      "source": [
        "**Visualización de los resultados...**\n",
        "\n",
        "Podemos también agregar una visualización sencilla de los resultados si es necesario para tener una interfaz más amigable. Por ejemplo, si los resultados son largos o complejos, podemos mostrar una tabla o hacer un resumen de los datos."
      ],
      "metadata": {
        "id": "XX4JgTubVpQ0"
      }
    },
    {
      "cell_type": "code",
      "source": [
        "import pandas as pd\n",
        "\n",
        "# Herramienta Excel para LangChain\n",
        "def query_excel_data(query):\n",
        "    # Use the globally available df DataFrame\n",
        "    # Change 'Pclass' to 'Clase' to match the DataFrame column name\n",
        "    filtered_df = df.query(query)\n",
        "    return filtered_df.to_dict(orient='records')\n",
        "\n",
        "# Crear la herramienta Excel para LangChain\n",
        "excel_tool = Tool(\n",
        "    name=\"Excel Query\",\n",
        "    func=query_excel_data,\n",
        "    description=\"Utiliza el archivo Excel Titanic para responder preguntas relacionadas con los pasajeros.\"\n",
        ")\n",
        "\n",
        "# Mostrar resultados como tabla para consultas con Excel\n",
        "def display_results_as_table(results):\n",
        "    df = pd.DataFrame(results)\n",
        "    print(df.head())  # Mostrar las primeras filas\n",
        "\n",
        "# Si los resultados vienen de Excel\n",
        "# Change 'Pclass' to 'Clase' in the query string\n",
        "response_excel = query_excel_data(\"Survived == 1 and Clase == 1\")\n",
        "display_results_as_table(response_excel)"
      ],
      "metadata": {
        "colab": {
          "base_uri": "https://localhost:8080/"
        },
        "id": "S9P_94ssalCe",
        "outputId": "1686c6af-100b-4534-a695-50025df65f0a"
      },
      "execution_count": 29,
      "outputs": [
        {
          "output_type": "stream",
          "name": "stdout",
          "text": [
            "   Id_Pasajero  Survived  Clase  \\\n",
            "0            2         1      1   \n",
            "1            4         1      1   \n",
            "2           12         1      1   \n",
            "3           24         1      1   \n",
            "4           32         1      1   \n",
            "\n",
            "                                              Nombre       Sexo  Edad  \\\n",
            "0  Cumings, Mrs. John Bradley (Florence Briggs Th...   Femenino  38.0   \n",
            "1       Futrelle, Mrs. Jacques Heath (Lily May Peel)   Femenino  35.0   \n",
            "2                           Bonnell, Miss. Elizabeth   Femenino  58.0   \n",
            "3                       Sloper, Mr. William Thompson  Masculino  28.0   \n",
            "4     Spencer, Mrs. William Augustus (Marie Eugenie)   Femenino   NaN   \n",
            "\n",
            "   Familiares   Tiquete  Tarifa Cabina Embarcado  \n",
            "0           0  PC 17599   71.28    C85         C  \n",
            "1           0    113803   53.10   C123         S  \n",
            "2           0    113783   26.55   C103         S  \n",
            "3           0    113788   35.50     A6         S  \n",
            "4           0  PC 17569  146.52    B78         C  \n"
          ]
        }
      ]
    }
  ]
}